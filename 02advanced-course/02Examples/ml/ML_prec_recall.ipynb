{
 "cells": [
  {
   "cell_type": "markdown",
   "id": "1a8a1758",
   "metadata": {},
   "source": [
    "# Precision, Recall\n",
    "\n",
    "Please consult the Basic Course lectures and examples for a presentation of the k-NN classifier.\n",
    "\n",
    "Here we will:\n",
    "\n",
    "1. load heart disease data\n",
    "2. perform k-nn classification\n",
    "3. examine the different metrics related to precision and recall"
   ]
  },
  {
   "cell_type": "code",
   "execution_count": 1,
   "id": "3ff5d7dd",
   "metadata": {},
   "outputs": [
    {
     "name": "stdout",
     "output_type": "stream",
     "text": [
      "   age  sex  cp  trestbps  chol  fbs  restecg  thalach  exang  oldpeak  slope  \\\n",
      "0   52    1   0       125   212    0        1      168      0      1.0      2   \n",
      "1   53    1   0       140   203    1        0      155      1      3.1      0   \n",
      "2   70    1   0       145   174    0        1      125      1      2.6      0   \n",
      "3   61    1   0       148   203    0        1      161      0      0.0      2   \n",
      "4   62    0   0       138   294    1        1      106      0      1.9      1   \n",
      "\n",
      "   ca  thal  target  \n",
      "0   2     3       0  \n",
      "1   0     3       0  \n",
      "2   0     3       0  \n",
      "3   1     3       0  \n",
      "4   3     2       0  \n",
      "age           int64\n",
      "sex           int64\n",
      "cp            int64\n",
      "trestbps      int64\n",
      "chol          int64\n",
      "fbs           int64\n",
      "restecg       int64\n",
      "thalach       int64\n",
      "exang         int64\n",
      "oldpeak     float64\n",
      "slope         int64\n",
      "ca            int64\n",
      "thal          int64\n",
      "target        int64\n",
      "dtype: object\n",
      "1    713\n",
      "0    312\n",
      "Name: sex, dtype: int64\n"
     ]
    }
   ],
   "source": [
    "import numpy as np\n",
    "import pandas as pd\n",
    "\n",
    "from sklearn.model_selection import train_test_split\n",
    "from sklearn.preprocessing import StandardScaler\n",
    "from sklearn.neighbors import KNeighborsClassifier\n",
    "from sklearn.metrics import confusion_matrix\n",
    "from sklearn.metrics import classification_report\n",
    "from sklearn.metrics import roc_curve\n",
    "from sklearn.metrics import roc_auc_score\n",
    "from sklearn.metrics import precision_recall_curve\n",
    "from sklearn.metrics import auc\n",
    "\n",
    "import matplotlib.pyplot as plt\n",
    "import seaborn as sns\n",
    "\n",
    "np.random.seed(seed=123)\n",
    "\n",
    "data_file_path = 'heart.csv'\n",
    "data_df = pd.read_csv(data_file_path)\n",
    "\n",
    "#To get information of dataset and the datatypes of the features\n",
    "print(data_df.head())\n",
    "print(data_df.dtypes)\n",
    "\n",
    "print(data_df.sex.value_counts())"
   ]
  },
  {
   "cell_type": "markdown",
   "id": "8b3f081b",
   "metadata": {},
   "source": [
    "Check for missing values"
   ]
  },
  {
   "cell_type": "code",
   "execution_count": 10,
   "id": "0ca9767f",
   "metadata": {},
   "outputs": [
    {
     "data": {
      "text/plain": [
       "age         0\n",
       "sex         0\n",
       "cp          0\n",
       "trestbps    0\n",
       "chol        0\n",
       "fbs         0\n",
       "restecg     0\n",
       "thalach     0\n",
       "exang       0\n",
       "oldpeak     0\n",
       "slope       0\n",
       "ca          0\n",
       "thal        0\n",
       "target      0\n",
       "dtype: int64"
      ]
     },
     "execution_count": 10,
     "metadata": {},
     "output_type": "execute_result"
    }
   ],
   "source": [
    "data_df.isnull().sum()"
   ]
  },
  {
   "cell_type": "code",
   "execution_count": 28,
   "id": "5e1f7919",
   "metadata": {},
   "outputs": [
    {
     "data": {
      "image/png": "[encoded data removed]",
      "text/plain": [
       "<Figure size 432x288 with 1 Axes>"
      ]
     },
     "metadata": {
      "needs_background": "light"
     },
     "output_type": "display_data"
    }
   ],
   "source": [
    "# distribution of target variable.\n",
    "sns.countplot(x=data_df[\"target\"])\n",
    "\n",
    "# Add labels\n",
    "plt.title('Countplot of Target')\n",
    "plt.xlabel('target')\n",
    "plt.ylabel('Patients')\n",
    "plt.show()"
   ]
  },
  {
   "cell_type": "markdown",
   "id": "532fc0ec",
   "metadata": {},
   "source": [
    "Split into train and test, and scale data for k-nn"
   ]
  },
  {
   "cell_type": "code",
   "execution_count": 2,
   "id": "f0985e50",
   "metadata": {},
   "outputs": [],
   "source": [
    "y = data_df[\"target\"].values\n",
    "x = data_df.drop([\"target\"], axis = 1)\n",
    "\n",
    "#Scaling - mandatory for knn\n",
    "from sklearn.preprocessing import StandardScaler\n",
    "ss = StandardScaler()\n",
    "x = ss.fit_transform(x)\n",
    "\n",
    "#Split into train and test\n",
    "X_train, X_test, y_train, y_test = train_test_split(x, y, test_size = 0.3) # 70% training and 30% test"
   ]
  },
  {
   "cell_type": "markdown",
   "id": "4e0a5022",
   "metadata": {},
   "source": [
    "To find the best value of k, loop and evaluate the test-score."
   ]
  },
  {
   "cell_type": "code",
   "execution_count": 3,
   "id": "df95f9de",
   "metadata": {},
   "outputs": [],
   "source": [
    "train_score = []\n",
    "test_score = []\n",
    "k_vals = []\n",
    "\n",
    "for k in range(1, 21):\n",
    "    k_vals.append(k)\n",
    "    knn = KNeighborsClassifier(n_neighbors = k)\n",
    "    knn.fit(X_train, y_train)\n",
    "    \n",
    "    tr_score = knn.score(X_train, y_train)\n",
    "    train_score.append(tr_score)\n",
    "    \n",
    "    te_score = knn.score(X_test, y_test)\n",
    "    test_score.append(te_score)"
   ]
  },
  {
   "cell_type": "code",
   "execution_count": 14,
   "id": "044134e7",
   "metadata": {},
   "outputs": [
    {
     "name": "stdout",
     "output_type": "stream",
     "text": [
      "Best test score:- 0.9675324675324676 at k = 1\n"
     ]
    },
    {
     "data": {
      "image/png": "[encoded data removed]",
      "text/plain": [
       "<Figure size 864x432 with 1 Axes>"
      ]
     },
     "metadata": {
      "needs_background": "light"
     },
     "output_type": "display_data"
    }
   ],
   "source": [
    "plt.figure(figsize=(12, 6))\n",
    "plt.plot(range(1, 21), test_score, color='red', linestyle='dashed', marker='o',\n",
    "         markerfacecolor='blue', markersize=10)#,\n",
    "plt.plot(range(1, 21), train_score, color='green', linestyle='dashed', marker='o',\n",
    "         markerfacecolor='orange', markersize=10)\n",
    "plt.title('Test Score as Function of k Value')\n",
    "plt.xlabel('Value of k')\n",
    "plt.ylabel('Test Score')\n",
    "plt.legend(['test score','train score'])\n",
    "print(\"Best test score:\",max(test_score),\"at k =\",test_score.index(max(test_score))+1)"
   ]
  },
  {
   "cell_type": "markdown",
   "id": "6e80b7e6",
   "metadata": {},
   "source": [
    "Using the value found, fit the model."
   ]
  },
  {
   "cell_type": "code",
   "execution_count": 18,
   "id": "4a564988",
   "metadata": {},
   "outputs": [
    {
     "data": {
      "text/plain": [
       "0.9707792207792207"
      ]
     },
     "execution_count": 18,
     "metadata": {},
     "output_type": "execute_result"
    }
   ],
   "source": [
    "#Setup a knn classifier with k neighbors\n",
    "knn = KNeighborsClassifier(1)\n",
    "\n",
    "knn.fit(X_train, y_train)\n",
    "knn.score(X_test, y_test)"
   ]
  },
  {
   "cell_type": "markdown",
   "id": "e7d5354e",
   "metadata": {},
   "source": [
    "To see how good the model is, compute the confusion matrix."
   ]
  },
  {
   "cell_type": "code",
   "execution_count": 19,
   "id": "36b1f77d",
   "metadata": {},
   "outputs": [
    {
     "data": {
      "text/html": [
       "<div>\n",
       "<style scoped>\n",
       "    .dataframe tbody tr th:only-of-type {\n",
       "        vertical-align: middle;\n",
       "    }\n",
       "\n",
       "    .dataframe tbody tr th {\n",
       "        vertical-align: top;\n",
       "    }\n",
       "\n",
       "    .dataframe thead th {\n",
       "        text-align: right;\n",
       "    }\n",
       "</style>\n",
       "<table border=\"1\" class=\"dataframe\">\n",
       "  <thead>\n",
       "    <tr style=\"text-align: right;\">\n",
       "      <th>Predicted</th>\n",
       "      <th>0</th>\n",
       "      <th>1</th>\n",
       "      <th>All</th>\n",
       "    </tr>\n",
       "    <tr>\n",
       "      <th>Actual</th>\n",
       "      <th></th>\n",
       "      <th></th>\n",
       "      <th></th>\n",
       "    </tr>\n",
       "  </thead>\n",
       "  <tbody>\n",
       "    <tr>\n",
       "      <th>0</th>\n",
       "      <td>141</td>\n",
       "      <td>3</td>\n",
       "      <td>144</td>\n",
       "    </tr>\n",
       "    <tr>\n",
       "      <th>1</th>\n",
       "      <td>6</td>\n",
       "      <td>158</td>\n",
       "      <td>164</td>\n",
       "    </tr>\n",
       "    <tr>\n",
       "      <th>All</th>\n",
       "      <td>147</td>\n",
       "      <td>161</td>\n",
       "      <td>308</td>\n",
       "    </tr>\n",
       "  </tbody>\n",
       "</table>\n",
       "</div>"
      ],
      "text/plain": [
       "Predicted    0    1  All\n",
       "Actual                  \n",
       "0          141    3  144\n",
       "1            6  158  164\n",
       "All        147  161  308"
      ]
     },
     "execution_count": 19,
     "metadata": {},
     "output_type": "execute_result"
    }
   ],
   "source": [
    "y_pred = knn.predict(X_test)\n",
    "confusion_matrix(y_test,y_pred)\n",
    "pd.crosstab(y_test, y_pred, rownames = ['Actual'], colnames =['Predicted'], margins = True)"
   ]
  },
  {
   "cell_type": "markdown",
   "id": "7e89e98a",
   "metadata": {},
   "source": [
    "## Analysis\n",
    "\n",
    "Actual (true) values are\n",
    "- 144 without heart disease\n",
    "- 164 with heart disease\n",
    "\n",
    "Predicted values are\n",
    "- 147 without heart disease, i.e. 3 more than the actual\n",
    "- 161 with heart disease,  i.e. 3 less than the actual\n",
    "\n",
    "We conclude the folllowing:\n",
    "\n",
    "1. True negatives are 141 (having no heart disease and correctly predicted)\n",
    "2. True positives are 158 (having a heart disease and correctly predicted)\n",
    "3. False positives are 3 (NOT having heart disease, but incorrectly predicted as having)\n",
    "4. False negatives are 6 (having heart disease, but incorrectly predicted as NOT having)\n",
    "\n",
    "\n",
    "## Complete Classification Report\n",
    "\n",
    "We want more details on the precision and recall."
   ]
  },
  {
   "cell_type": "code",
   "execution_count": 20,
   "id": "7745ab1c",
   "metadata": {},
   "outputs": [
    {
     "name": "stdout",
     "output_type": "stream",
     "text": [
      "              precision    recall  f1-score   support\n",
      "\n",
      "           0       0.96      0.98      0.97       144\n",
      "           1       0.98      0.96      0.97       164\n",
      "\n",
      "    accuracy                           0.97       308\n",
      "   macro avg       0.97      0.97      0.97       308\n",
      "weighted avg       0.97      0.97      0.97       308\n",
      "\n"
     ]
    }
   ],
   "source": [
    "print(classification_report(y_test, y_pred))"
   ]
  },
  {
   "cell_type": "markdown",
   "id": "89cfd58f",
   "metadata": {},
   "source": [
    "## Accuracy, Precision, Recall and F1-Score\n",
    "\n",
    "The classification report details all these quantities.\n",
    "\n",
    "**Precison** is is the ratio between the True Positives and all the Positives - a measure of patients that we correctly identify as having a heart disease out of all the patients actually having it.\n",
    "\n",
    "**Recall** is the measure of our model correctly identifying True Positives. AKA sensitiviy, or true positive rate (TPR)\n",
    "\n",
    "**Accuracy** is the ratio between the total number of correct predictions and the total number of predictions. Using accuracy as a defining metric makes sense intuitively, but more often than not it is advisable to use Precision and Recall too. There might be situations where our accuracy is very high, but our precision or recall is low. These two are often more critical in the evaluation and reliability of a ML or surrogate model. \n",
    "\n",
    "- We do not want to miss any sick people.\n",
    "- We do not want to unnecessarily treat healthy people.\n",
    "\n",
    "### Conclusion\n",
    "\n",
    "Understanding Accuracy helps to realize that we need a _tradeoff_ between Precision and Recall. We first need to decide which is more important for our classification problem. For example, for our dataset, we can consider that achieving a high recall is more important than getting a high precision – we would like to detect as many heart patients as possible. For other models, such as classifying whether or not a bank customer is a loan defaulter, it is desirable to have high precision since the bank would not want to lose customers who were denied a loan based on the model’s prediction that they would be defaulters.\n",
    "\n",
    "There are also many situations where precision and recall are _equally_ important. For example, for our heart model, if the doctor informs us that the patients who were incorrectly classified as suffering from heart disease are equally important since they could be indicative of some other ailment, then we would aim for not only a high recall but a high precision as well.\n",
    "\n",
    "In such cases, we can use the F1-score, which is the harmonic mean of the Precision and Recall:\n",
    "\n",
    "\n",
    "\n",
    "\n",
    "## ROC\n",
    "\n",
    "We can also visualize Precision and Recall using \n",
    "- ROC curves (Receiver Operating Characteristic)\n",
    "- PRC curves (Precision Recall)\n",
    "\n",
    "The ROC is the plot between the TPR (y-axis) and FPR (x-axis). Since our model classifies the patient as having heart disease or not based on the probabilities generated for each class, we can decide the threshold of the probabilities as well.\n",
    "\n",
    "For example, we want to set a threshold value of $0.4.$ This means that the model will classify the data point/patient as having heart disease if the probability of the patient having a heart disease is greater than $0.4.$ This will obviously give a high recall value and reduce the number of False Positives. Similarly, using the ROC curve, we can visualize how our model performs for different threshold values.\n",
    "\n"
   ]
  },
  {
   "cell_type": "code",
   "execution_count": 26,
   "id": "1c57a862",
   "metadata": {},
   "outputs": [
    {
     "data": {
      "text/plain": [
       "0.971290650406504"
      ]
     },
     "execution_count": 26,
     "metadata": {},
     "output_type": "execute_result"
    },
    {
     "data": {
      "image/png": "[encoded data removed]",
      "text/plain": [
       "<Figure size 432x288 with 1 Axes>"
      ]
     },
     "metadata": {
      "needs_background": "light"
     },
     "output_type": "display_data"
    }
   ],
   "source": [
    "from sklearn.metrics import RocCurveDisplay, roc_curve\n",
    "\n",
    "y_pred_proba = knn.predict_proba(X_test)[:,1]\n",
    "fpr, tpr, _ = roc_curve(y_test, y_pred_proba)\n",
    "roc_display = RocCurveDisplay(fpr=fpr, tpr=tpr).plot()\n",
    "roc_auc_score(y_test, y_pred_proba)"
   ]
  },
  {
   "cell_type": "markdown",
   "id": "47cc8cd5",
   "metadata": {},
   "source": [
    "## Precision-Recall Curve\n",
    "\n",
    "This curve directly represents the precision (y-axis) and the recall (x-axis). If you observe our definitions and formulas for the Precision and Recall above, you will notice that we are not using the True Negatives (the actual number of people who do not have heart disease).\n",
    "\n",
    "This is particularly useful for situations where we have an _imbalanced_ dataset and the number of negatives is much larger than the positives(or when the number of patients having no heart disease is much larger than the patients having it). In such cases, our greater concern would be detecting the patients with heart disease as correctly as possible and would not need the TNR."
   ]
  },
  {
   "cell_type": "code",
   "execution_count": 23,
   "id": "ad8304f6",
   "metadata": {},
   "outputs": [
    {
     "data": {
      "image/png": "[encoded data removed]",
      "text/plain": [
       "<Figure size 720x576 with 1 Axes>"
      ]
     },
     "metadata": {
      "needs_background": "light"
     },
     "output_type": "display_data"
    }
   ],
   "source": [
    "precision, recall, thresholds = precision_recall_curve(y_test, y_pred_proba)\n",
    "\n",
    "plt.figure(figsize = (10,8))\n",
    "plt.plot([0, 1], [0.5, 0.5],'k--')\n",
    "plt.plot(recall, precision, label = 'Knn')\n",
    "plt.xlabel('recall')\n",
    "plt.ylabel('precision')\n",
    "plt.title('Knn(n_neighbors = 1) PRC curve')\n",
    "plt.show()"
   ]
  },
  {
   "cell_type": "markdown",
   "id": "f9abef7f",
   "metadata": {},
   "source": [
    "## Analysis\n",
    "\n"
   ]
  },
  {
   "cell_type": "code",
   "execution_count": 24,
   "id": "25b40be8",
   "metadata": {},
   "outputs": [
    {
     "name": "stdout",
     "output_type": "stream",
     "text": [
      "0.982130806627095\n"
     ]
    }
   ],
   "source": [
    "# calculate precision-recall AUC\n",
    "auc_prc = auc(recall, precision)\n",
    "print(auc_prc)"
   ]
  },
  {
   "cell_type": "markdown",
   "id": "e15a2d4f",
   "metadata": {},
   "source": [
    "## Conclusion\n",
    "\n",
    "- Precision and recall are two evaluation metrics used to measure the performance of a classifier in binary and multiclass classification problems.\n",
    "- Precision measures the accuracy of positive predictions, while recall measures the completeness of positive predictions.\n",
    "- High precision and high recall are desirable, but there may be a trade-off between the two metrics in some cases.\n",
    "- Precision and recall should be used together with other evaluation metrics, such as accuracy and F1-score, to get a comprehensive understanding of the performance of a classifier."
   ]
  },
  {
   "cell_type": "code",
   "execution_count": null,
   "id": "6709a64b",
   "metadata": {},
   "outputs": [],
   "source": []
  }
 ],
 "metadata": {
  "kernelspec": {
   "display_name": "Python 3 (ipykernel)",
   "language": "python",
   "name": "python3"
  },
  "language_info": {
   "codemirror_mode": {
    "name": "ipython",
    "version": 3
   },
   "file_extension": ".py",
   "mimetype": "text/x-python",
   "name": "python",
   "nbconvert_exporter": "python",
   "pygments_lexer": "ipython3",
   "version": "3.10.9"
  }
 },
 "nbformat": 4,
 "nbformat_minor": 5
}
